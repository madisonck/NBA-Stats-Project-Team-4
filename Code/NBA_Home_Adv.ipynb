{
 "cells": [
  {
   "cell_type": "code",
   "execution_count": null,
   "metadata": {
    "scrolled": true
   },
   "outputs": [],
   "source": [
    "# Dependencies and Setup\n",
    "import matplotlib.pyplot as plt\n",
    "import pandas as pd\n",
    "import numpy as np\n",
    "import scipy.stats as st\n",
    "from scipy.stats import linregress\n",
    "\n",
    "# Store filepaths in a variables\n",
    "file_one = \"../resources/games.csv\"\n",
    "\n",
    "# Read all data files with the pandas library\n",
    "games_df= pd.read_csv(file_one, encoding=\"ISO-8859-1\")\n",
    "games_df.sample(25)"
   ]
  },
  {
   "cell_type": "code",
   "execution_count": null,
   "metadata": {},
   "outputs": [],
   "source": [
    "# look for missing values\n",
    "missing_values_count = games_df.isnull().sum()\n",
    "missing_values_count[0:50]"
   ]
  },
  {
   "cell_type": "code",
   "execution_count": null,
   "metadata": {},
   "outputs": [],
   "source": [
    "# determine if dataframe is missing data\n",
    "total_cells = np.product(games_df.shape)\n",
    "total_missing = missing_values_count.sum()\n",
    "\n",
    "# Present\n",
    "(total_missing/total_cells) * 100"
   ]
  },
  {
   "cell_type": "code",
   "execution_count": null,
   "metadata": {},
   "outputs": [],
   "source": [
    "# build dataframes from Free Throw (FT) percentages and average\n",
    "FTPCTHOME_shooting_mean_by_season = games_df.groupby('SEASON')['FT_PCT_home'].mean()\n",
    "FTPCTAWAY_shooting_mean_by_season = games_df.groupby('SEASON')['FT_PCT_away'].mean()\n",
    "\n",
    "# build dataframes from total Points Scored and average\n",
    "AVGPTS_away_by_season = games_df.groupby('SEASON')['PTS_away'].mean()\n",
    "AVGPTS_home_by_season = games_df.groupby('SEASON')['PTS_home'].mean()\n",
    "\n",
    "# build dataframes from 3PT shooting percentage and average\n",
    "FG3HOME_shooting_mean_by_season = games_df.groupby('SEASON')['FG3_PCT_home'].mean()\n",
    "FG3AWAY_shooting_mean_by_season = games_df.groupby('SEASON')['FG3_PCT_away'].mean()\n",
    "\n",
    "# build dataframes from total wins and count\n",
    "WINHOME_by_season = games_df.groupby('SEASON')['HOME_TEAM_WINS'].sum()\n",
    "WINTOTAL_by_season = games_df.groupby('SEASON')['HOME_TEAM_WINS'].count()\n",
    "\n",
    "# calculate winning home percentage\n",
    "WINPCTHOME_by_season = WINHOME_by_season/WINTOTAL_by_season\n",
    "\n",
    "# assemble single summary dataframe\n",
    "Summary_df = pd.DataFrame({\"WIN% HOME\": WINPCTHOME_by_season, \n",
    "                           \"AVG PTS HOME\": AVGPTS_home_by_season, \"AVG PTS AWAY\":                                           AVGPTS_away_by_season, \n",
    "                           \"FT% AWAY AVG\": FTPCTAWAY_shooting_mean_by_season, \"FT% HOME AVG\":                               FTPCTHOME_shooting_mean_by_season, \n",
    "                           \"FG3%HOME AVG\": FG3HOME_shooting_mean_by_season, \"FG3%AWAY AVG\":                                 FG3AWAY_shooting_mean_by_season})\n",
    "\n",
    "# present\n",
    "Summary_df"
   ]
  },
  {
   "cell_type": "code",
   "execution_count": null,
   "metadata": {},
   "outputs": [],
   "source": [
    "#create plot, title, and labels for bar chart\n",
    "plt.title('Home Team PCT% by from 2003 - 2019')\n",
    "x_series =[2003, 2004, 2005, 2006, 2007, 2008, 2009, 2010, 2011, 2012, 2013, 2014, 2015, 2016, 2017, 2018, 2019]\n",
    "ticks = [value for value in x_series]\n",
    "plt.xlabel('Season')\n",
    "plt.ylabel('Home Team Wins (PCT%)')\n",
    "plt.bar(list(Summary_df.index), Summary_df['WIN% HOME'],label ='Home Win PCT%', align='center', alpha=0.5)\n",
    "plt.ylim(.54,.65)\n",
    "plt.xticks(ticks, list(Summary_df.index), rotation=\"vertical\")\n",
    "plt.savefig(\"../output/Home Team PCT.png\")\n",
    "plt.show()\n",
    "print(f\"The Average Home Team Winning Percent for all Seasons 2003 - 2019 is {Summary_df['WIN% HOME'].mean()}\")"
   ]
  },
  {
   "cell_type": "code",
   "execution_count": null,
   "metadata": {},
   "outputs": [],
   "source": [
    "#create plot, title, and labels for line chart\n",
    "plt.title('Average FG3% Shooting Comparison')\n",
    "plt.plot(FG3HOME_shooting_mean_by_season, label='Home')\n",
    "plt.plot(FG3AWAY_shooting_mean_by_season, label='Away')\n",
    "plt.xlabel('Season')\n",
    "plt.ylabel('Percent FG3 Average')\n",
    "plt.legend()\n",
    "plt.savefig(\"../output/Average FG3 compared.png\")\n",
    "plt.show()\n",
    "print(f\"The Average Home FG3 Shooting Percent for all Seasons 2003 - 2019 is {Summary_df['FG3%HOME AVG'].mean()}\")\n",
    "print(f\"The Average Away FG3 Shooting Percent for all Seasons 2003 - 2019 is {Summary_df['FG3%AWAY AVG'].mean()}\")"
   ]
  },
  {
   "cell_type": "code",
   "execution_count": null,
   "metadata": {},
   "outputs": [],
   "source": [
    "#create plot, title, and labels for line chart\n",
    "plt.title('Average FT% Shooting Comparison')\n",
    "plt.plot(FTPCTHOME_shooting_mean_by_season, label = 'Home')\n",
    "plt.plot(FTPCTAWAY_shooting_mean_by_season, label = 'Away')\n",
    "plt.xlabel('Season')\n",
    "plt.ylabel('Percent FT Average')\n",
    "plt.legend()\n",
    "plt.savefig(\"../output/Average FT comparison.png\")\n",
    "plt.show()\n",
    "print(f\"The Average Home FT Shooting Percent for all Seasons 2003 - 2019 is {Summary_df['FT% HOME AVG'].mean()}\")\n",
    "print(f\"The Average Away FT Shooting Percent for all Seasons 2003 - 2019 is {Summary_df['FT% AWAY AVG'].mean()}\")"
   ]
  },
  {
   "cell_type": "code",
   "execution_count": null,
   "metadata": {},
   "outputs": [],
   "source": [
    "#create plot, title, and labels for scatter plot chart\n",
    "plt.title('Home Team FG3% vs Home Team Win Percent')\n",
    "plt.scatter(FG3HOME_shooting_mean_by_season, Summary_df['WIN% HOME'])\n",
    "plt.ylabel('Home Team Wins Percent')\n",
    "plt.xlabel('FG3 Percent Average')\n",
    "\n",
    "#set up linear regression model function\n",
    "Correlation_Coeff = st.pearsonr(FG3HOME_shooting_mean_by_season, Summary_df['WIN% HOME'])[0]\n",
    "Linear_Regress = st.linregress(FG3HOME_shooting_mean_by_season, Summary_df['WIN% HOME'])\n",
    "LinValues = FG3HOME_shooting_mean_by_season * Linear_Regress[0] + Linear_Regress[1]\n",
    "\n",
    "#create scatter plot with above data\n",
    "plt.plot(FG3HOME_shooting_mean_by_season,LinValues,\"r-\")\n",
    "plt.savefig(\"../output/Home FG3 Shooting to Win Percent.png\")\n",
    "plt.show()\n",
    "\n",
    "print(f\"The correlation between FG3%HOME and HOME_TEAM_WINS {Correlation_Coeff}\")\n",
    "print(f\"The slope of the liner regression model between FG3%HOME and HOME_TEAM_WINSFG3%HOME and HOME_TEAM_WINS is {Linear_Regress[0]} and the y intercept is {Linear_Regress[1]}\")"
   ]
  },
  {
   "cell_type": "code",
   "execution_count": null,
   "metadata": {},
   "outputs": [],
   "source": [
    "#create plot, title, and labels for scatter plot chart\n",
    "plt.title('Home Team FT% vs Home Team Win Percent')\n",
    "plt.scatter(FTPCTHOME_shooting_mean_by_season, Summary_df['WIN% HOME'])\n",
    "plt.ylabel('Home Team Wins Percent')\n",
    "plt.xlabel('FT% Percent Average')\n",
    "\n",
    "#set up linear regression model function\n",
    "Correlation_Coeff = st.pearsonr(FTPCTHOME_shooting_mean_by_season, Summary_df['WIN% HOME'])[0]\n",
    "Linear_Regress = st.linregress(FTPCTHOME_shooting_mean_by_season, Summary_df['WIN% HOME'])\n",
    "LinValues = FTPCTHOME_shooting_mean_by_season * Linear_Regress[0] + Linear_Regress[1]\n",
    "\n",
    "#create scatter plot with above data\n",
    "plt.plot(FTPCTHOME_shooting_mean_by_season,LinValues,\"r-\")\n",
    "plt.savefig(\"../output/Home FT Shooting to Win Percent.png\")\n",
    "plt.show()\n",
    "\n",
    "print(f\"The correlation between FT% HOME and HOME_TEAM_WINS {Correlation_Coeff}\")\n",
    "print(f\"The slope of the liner regression model between FT% HOME and HOME_TEAM_WINS is {Linear_Regress[0]} and the y intercept is {Linear_Regress[1]}\")\n"
   ]
  },
  {
   "cell_type": "code",
   "execution_count": null,
   "metadata": {},
   "outputs": [],
   "source": [
    "#create plot, title, and labels for scatter plot chart\n",
    "plt.title('Away Team FG3% vs Home Team Win Percent')\n",
    "plt.scatter(FG3AWAY_shooting_mean_by_season, Summary_df['WIN% HOME'])\n",
    "plt.ylabel('Home Team Wins Percent')\n",
    "plt.xlabel('Away Team FG3% Percent Average')\n",
    "\n",
    "\n",
    "#set up linear regression model function\n",
    "Correlation_Coeff = st.pearsonr(FG3HOME_shooting_mean_by_season, Summary_df['WIN% HOME'])[0]\n",
    "Linear_Regress = st.linregress(FG3HOME_shooting_mean_by_season, Summary_df['WIN% HOME'])\n",
    "LinValues = FG3HOME_shooting_mean_by_season * Linear_Regress[0] + Linear_Regress[1]\n",
    "\n",
    "#create scatter plot with above data\n",
    "plt.plot(FG3HOME_shooting_mean_by_season,LinValues,\"r-\")\n",
    "plt.show()\n",
    "\n",
    "print(f\"The correlation between FG3% AWAY and HOME_TEAM_WINS {Correlation_Coeff}\")\n",
    "print(f\"The slope of the liner regression model between FG3% AWAY and HOME_TEAM_WINS is {Linear_Regress[0]} and the y intercept is {Linear_Regress[1]}\")"
   ]
  },
  {
   "cell_type": "code",
   "execution_count": null,
   "metadata": {},
   "outputs": [],
   "source": [
    "#create plot, title, and labels for scatter plot chart\n",
    "plt.title('Away Team FT% vs Home Team Win Percent')\n",
    "plt.scatter(FTPCTAWAY_shooting_mean_by_season, Summary_df['WIN% HOME'])\n",
    "plt.ylabel('Home Team Wins Percent')\n",
    "plt.xlabel('Away Team FT% Percent Average')\n",
    "\n",
    "\n",
    "#set up linear regression model function\n",
    "Correlation_Coeff = st.pearsonr(FTPCTAWAY_shooting_mean_by_season, Summary_df['WIN% HOME'])[0]\n",
    "Linear_Regress = st.linregress(FTPCTAWAY_shooting_mean_by_season, Summary_df['WIN% HOME'])\n",
    "LinValues = FTPCTAWAY_shooting_mean_by_season * Linear_Regress[0] + Linear_Regress[1]\n",
    "\n",
    "#create scatter plot with above data\n",
    "plt.plot(FTPCTAWAY_shooting_mean_by_season,LinValues,\"r-\")\n",
    "plt.savefig(\"../output/Away FT Shooting to Win Percent.png\")\n",
    "plt.show()\n",
    "\n",
    "print(f\"The correlation between FT% AWAY and HOME_TEAM_WINS {Correlation_Coeff}\")\n",
    "print(f\"The slope of the liner regression model between FT% AWAY and HOME_TEAM_WINS is {Linear_Regress[0]} and the y intercept is {Linear_Regress[1]}\")"
   ]
  },
  {
   "cell_type": "code",
   "execution_count": null,
   "metadata": {},
   "outputs": [],
   "source": [
    "#create plot, title, and labels for scatter plot chart\n",
    "plt.title('Away Team FG3% vs Average Home Team Points')\n",
    "plt.scatter(FG3AWAY_shooting_mean_by_season, AVGPTS_home_by_season)\n",
    "plt.ylabel('Average Home Team Points')\n",
    "plt.xlabel('FG3% Percent Average')\n",
    "\n",
    "\n",
    "#set up linear regression model function\n",
    "Correlation_Coeff = st.pearsonr(FG3AWAY_shooting_mean_by_season, AVGPTS_home_by_season)[0]\n",
    "Linear_Regress = st.linregress(FG3AWAY_shooting_mean_by_season, AVGPTS_home_by_season)\n",
    "LinValues = FG3AWAY_shooting_mean_by_season * Linear_Regress[0] + Linear_Regress[1]\n",
    "\n",
    "#create scatter plot with above data\n",
    "plt.plot(FG3AWAY_shooting_mean_by_season,LinValues,\"r-\")\n",
    "plt.savefig(\"../output/Away Team FG3 Shooting to Win Percent.png\")\n",
    "plt.show()\n",
    "\n",
    "print(f\"The correlation between FG3% AWAY and HOME TEAM POINTS {Correlation_Coeff}\")\n",
    "print(f\"The slope of the liner regression model between FG3% AWAY and HOME TEAM POINTS is {Linear_Regress[0]} and the y intercept is {Linear_Regress[1]}\")\n"
   ]
  },
  {
   "cell_type": "code",
   "execution_count": null,
   "metadata": {},
   "outputs": [],
   "source": [
    "#create plot, title, and labels for scatter plot chart\n",
    "plt.title('Away Team FT% vs Average Home Team Points')\n",
    "plt.scatter(FTPCTAWAY_shooting_mean_by_season, AVGPTS_home_by_season)\n",
    "plt.ylabel('Average Away Team Points')\n",
    "plt.xlabel('FT% Percent Average')\n",
    "\n",
    "\n",
    "#set up linear regression model function\n",
    "Correlation_Coeff = st.pearsonr(FTPCTAWAY_shooting_mean_by_season, AVGPTS_home_by_season)[0]\n",
    "Linear_Regress = st.linregress(FTPCTAWAY_shooting_mean_by_season, AVGPTS_home_by_season)\n",
    "LinValues = FTPCTAWAY_shooting_mean_by_season * Linear_Regress[0] + Linear_Regress[1]\n",
    "\n",
    "#create scatter plot with above data\n",
    "plt.plot(FTPCTAWAY_shooting_mean_by_season,LinValues,\"r-\")\n",
    "plt.show()\n",
    "\n",
    "print(f\"The correlation between FT% AWAY and HOME TEAM POINTS {Correlation_Coeff}\")\n",
    "print(f\"The slope of the liner regression model between FT% AWAY and HOME TEAM POINTS is {Linear_Regress[0]} and the y intercept is {Linear_Regress[1]}\")\n"
   ]
  },
  {
   "cell_type": "code",
   "execution_count": null,
   "metadata": {},
   "outputs": [],
   "source": []
  }
 ],
 "metadata": {
  "anaconda-cloud": {},
  "kernel_info": {
   "name": "python3"
  },
  "kernelspec": {
   "display_name": "Python 3",
   "language": "python",
   "name": "python3"
  },
  "language_info": {
   "codemirror_mode": {
    "name": "ipython",
    "version": 3
   },
   "file_extension": ".py",
   "mimetype": "text/x-python",
   "name": "python",
   "nbconvert_exporter": "python",
   "pygments_lexer": "ipython3",
   "version": "3.6.10-final"
  },
  "latex_envs": {
   "LaTeX_envs_menu_present": true,
   "autoclose": false,
   "autocomplete": true,
   "bibliofile": "biblio.bib",
   "cite_by": "apalike",
   "current_citInitial": 1,
   "eqLabelWithNumbers": true,
   "eqNumInitial": 1,
   "hotkeys": {
    "equation": "Ctrl-E",
    "itemize": "Ctrl-I"
   },
   "labels_anchors": false,
   "latex_user_defs": false,
   "report_style_numbering": false,
   "user_envs_cfg": false
  },
  "nteract": {
   "version": "0.12.3"
  }
 },
 "nbformat": 4,
 "nbformat_minor": 2
}